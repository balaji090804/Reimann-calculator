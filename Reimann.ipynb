{
  "nbformat": 4,
  "nbformat_minor": 0,
  "metadata": {
    "colab": {
      "provenance": []
    },
    "kernelspec": {
      "name": "python3",
      "display_name": "Python 3"
    },
    "language_info": {
      "name": "python"
    }
  },
  "cells": [
    {
      "cell_type": "code",
      "execution_count": null,
      "metadata": {
        "id": "-RQz-FcTP5TX"
      },
      "outputs": [],
      "source": [
        "import numpy as np\n",
        "import sympy as sp\n",
        "\n",
        "def riemann_sum(f, a, b, dx, method='right'):\n",
        "    \"\"\"\n",
        "    Calculate the Riemann sum for a given function f on the interval [a, b].\n",
        "\n",
        "    Parameters:\n",
        "    f (function): The function to integrate.\n",
        "    a (float): The start of the interval.\n",
        "    b (float): The end of the interval.\n",
        "    dx (float): The width of each subinterval.\n",
        "    method (str): The method of the Riemann sum ('left', 'right', 'midpoint').\n",
        "\n",
        "    Returns:\n",
        "    float: The approximate integral of the function.\n",
        "    \"\"\"\n",
        "    n = int((b - a) / dx)  # Number of subintervals\n",
        "    x = np.linspace(a, b, n+1)  # Partition points\n",
        "\n",
        "    if method == 'left':\n",
        "        x_left = x[:-1]\n",
        "        return np.sum(f(x_left) * dx)\n",
        "\n",
        "    elif method == 'right':\n",
        "        x_right = x[1:]\n",
        "        return np.sum(f(x_right) * dx)\n",
        "\n",
        "    elif method == 'midpoint':\n",
        "        x_mid = (x[:-1] + x[1:]) / 2\n",
        "        return np.sum(f(x_mid) * dx)\n",
        "\n",
        "    else:\n",
        "        raise ValueError(\"Method must be 'left', 'right', or 'midpoint'\")\n",
        "\n",
        "def get_function_from_user():\n",
        "    user_input = input(\"Enter the function to integrate (in terms of x): \")\n",
        "    x = sp.symbols('x')\n",
        "    f = sp.lambdify(x, sp.sympify(user_input), 'numpy')\n",
        "    return f\n",
        "\n",
        "def main():\n",
        "    # Get user inputs\n",
        "    f = get_function_from_user()\n",
        "    a = float(input(\"Enter the lower bound: \"))\n",
        "    b = float(input(\"Enter the upper bound: \"))\n",
        "    dx = float(input(\"Enter the interval size: \"))\n",
        "    method = input(\"Enter the method (left, right, midpoint): \").lower()\n",
        "\n",
        "    # Calculate the Riemann sum\n",
        "    result = riemann_sum(f, a, b, dx, method)\n",
        "    print(f\"Riemann Sum using {method} method: {result}\")\n",
        "\n",
        "if __name__ == \"__main__\":\n",
        "    main()\n"
      ]
    }
  ]
}